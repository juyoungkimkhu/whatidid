{
 "cells": [
  {
   "cell_type": "code",
   "execution_count": 4,
   "id": "69dff3a8",
   "metadata": {},
   "outputs": [
    {
     "data": {
      "text/plain": [
       "dict"
      ]
     },
     "execution_count": 4,
     "metadata": {},
     "output_type": "execute_result"
    }
   ],
   "source": [
    "#1\n",
    "my_dict = {}\n",
    "type(my_dict)"
   ]
  },
  {
   "cell_type": "code",
   "execution_count": 5,
   "id": "0eaaa911",
   "metadata": {},
   "outputs": [
    {
     "name": "stdout",
     "output_type": "stream",
     "text": [
      "[10, 20, 30, 100]\n"
     ]
    }
   ],
   "source": [
    "#2\n",
    "my_dict = {'x': 10, 'y': 20, 'z':30, 't':100}\n",
    "list_val = []\n",
    "for x in my_dict.values():\n",
    "    list_val.append(x)\n",
    "print(list_val)"
   ]
  },
  {
   "cell_type": "code",
   "execution_count": 9,
   "id": "a621c5bc",
   "metadata": {},
   "outputs": [
    {
     "name": "stdout",
     "output_type": "stream",
     "text": [
      "[0, 2, 4, 6, 8, 10]\n"
     ]
    }
   ],
   "source": [
    "#3\n",
    "my_list1 = [x*2 for x in range(6)]\n",
    "print(my_list1)"
   ]
  },
  {
   "cell_type": "code",
   "execution_count": 10,
   "id": "d4b02899",
   "metadata": {},
   "outputs": [
    {
     "name": "stdout",
     "output_type": "stream",
     "text": [
      "[3, 6, 9, 12, 15]\n"
     ]
    }
   ],
   "source": [
    "#4\n",
    "my_list2 = [x*3 for x in range(1,6)]\n",
    "print(my_list2)"
   ]
  },
  {
   "cell_type": "code",
   "execution_count": 11,
   "id": "3365630c",
   "metadata": {},
   "outputs": [
    {
     "name": "stdout",
     "output_type": "stream",
     "text": [
      "{0: 3, 2: 6, 4: 9, 6: 12, 8: 15}\n"
     ]
    }
   ],
   "source": [
    "#5\n",
    "my_list1 = [x*2 for x in range(6)]\n",
    "my_list2 = [x*3 for x in range(1,6)]\n",
    "my_dict = dict(zip(my_list1,my_list2))\n",
    "print(my_dict)"
   ]
  },
  {
   "cell_type": "code",
   "execution_count": 12,
   "id": "f7b9180a",
   "metadata": {},
   "outputs": [
    {
     "name": "stdout",
     "output_type": "stream",
     "text": [
      "{1: 3, 2: 6, 3: 9, 4: 12, 5: 15}\n"
     ]
    }
   ],
   "source": [
    "#6\n",
    "my_dict = {}\n",
    "for x in range(1,6):\n",
    "    my_dict[x] = 3*x\n",
    "print(my_dict)"
   ]
  },
  {
   "cell_type": "code",
   "execution_count": 13,
   "id": "816476f7",
   "metadata": {},
   "outputs": [
    {
     "name": "stdout",
     "output_type": "stream",
     "text": [
      "{'id': 'abcd', 'passwd': '1234', 'token': 200}\n"
     ]
    }
   ],
   "source": [
    "#7\n",
    "keys = ['id', 'passwd', 'token']\n",
    "values = ['abcd','1234',200]\n",
    "my_dict = dict(zip(keys,values))\n",
    "print(my_dict)"
   ]
  },
  {
   "cell_type": "code",
   "execution_count": 14,
   "id": "2d167640",
   "metadata": {},
   "outputs": [
    {
     "name": "stdout",
     "output_type": "stream",
     "text": [
      "{'id': 'abcd', 'passwd': '1234', 'token': 300}\n"
     ]
    }
   ],
   "source": [
    "#8\n",
    "keys = ['id', 'passwd', 'token']\n",
    "values = ['abcd','1234',200]\n",
    "my_dict = dict(zip(keys,values))\n",
    "my_dict['token'] = 300\n",
    "print(my_dict)"
   ]
  },
  {
   "cell_type": "code",
   "execution_count": 16,
   "id": "7ad45841",
   "metadata": {},
   "outputs": [
    {
     "name": "stdout",
     "output_type": "stream",
     "text": [
      "{'id': 'abcd', 'passwd': '1234', 'token': 500}\n"
     ]
    }
   ],
   "source": [
    "#9\n",
    "dict1 = {'id':'abcd', 'passwd':'1234'}\n",
    "dict2 = {'token':500}\n",
    "dict1.update(dict2)\n",
    "print(dict1)"
   ]
  },
  {
   "cell_type": "code",
   "execution_count": 43,
   "id": "3890d1b9",
   "metadata": {},
   "outputs": [
    {
     "name": "stdout",
     "output_type": "stream",
     "text": [
      "600\n"
     ]
    }
   ],
   "source": [
    "#10\n",
    "my_list = []\n",
    "my_dict = {'a': '100', 'b': '200', 'c': '300'}\n",
    "for x in my_dict.values():\n",
    "    my_list.append(int(x))\n",
    "print(sum(my_list))"
   ]
  },
  {
   "cell_type": "code",
   "execution_count": 61,
   "id": "5d32dfe4",
   "metadata": {},
   "outputs": [
    {
     "name": "stdout",
     "output_type": "stream",
     "text": [
      "{'vel_00': 0, 'vel_01': 1, 'vel_02': 2, 'vel_03': 3, 'vel_04': 4, 'vel_05': 5, 'vel_06': 6, 'vel_07': 7, 'vel_08': 8, 'vel_09': 9}\n"
     ]
    }
   ],
   "source": [
    "#11\n",
    "nums = [x for x in range(10)]\n",
    "vels = ['vel_{:02d}'.format(i) for i in range(10)]\n",
    "my_dict = dict(zip(vels,nums))\n",
    "print(my_dict)"
   ]
  },
  {
   "cell_type": "code",
   "execution_count": 33,
   "id": "ed91f5e4",
   "metadata": {},
   "outputs": [
    {
     "name": "stdout",
     "output_type": "stream",
     "text": [
      "{'aaa': '1', ' bbb': '2', ' ccc': '3', ' ddd': '4', ' eee': '5', ' fff': '6'}\n"
     ]
    }
   ],
   "source": [
    "#12\n",
    "string1 = 'aaa; bbb; ccc; ddd; eee; fff'\n",
    "string2 = '1-2-3-4-5-6'\n",
    "str1list = string1.split(';')\n",
    "str2list = string2.split('-')\n",
    "my_dict = dict(zip(str1list, str2list))\n",
    "print(my_dict)"
   ]
  }
 ],
 "metadata": {
  "kernelspec": {
   "display_name": "Python 3 (ipykernel)",
   "language": "python",
   "name": "python3"
  },
  "language_info": {
   "codemirror_mode": {
    "name": "ipython",
    "version": 3
   },
   "file_extension": ".py",
   "mimetype": "text/x-python",
   "name": "python",
   "nbconvert_exporter": "python",
   "pygments_lexer": "ipython3",
   "version": "3.9.7"
  }
 },
 "nbformat": 4,
 "nbformat_minor": 5
}
