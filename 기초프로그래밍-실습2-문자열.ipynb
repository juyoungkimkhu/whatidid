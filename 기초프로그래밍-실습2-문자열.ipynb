{
 "cells": [
  {
   "cell_type": "code",
   "execution_count": 2,
   "id": "d8436554",
   "metadata": {},
   "outputs": [
    {
     "data": {
      "text/plain": [
       "tuple"
      ]
     },
     "execution_count": 2,
     "metadata": {},
     "output_type": "execute_result"
    }
   ],
   "source": [
    "#1\n",
    "a = (1,)\n",
    "type(a)"
   ]
  },
  {
   "cell_type": "code",
   "execution_count": 3,
   "id": "c9b5585c",
   "metadata": {},
   "outputs": [
    {
     "data": {
      "text/plain": [
       "3"
      ]
     },
     "execution_count": 3,
     "metadata": {},
     "output_type": "execute_result"
    }
   ],
   "source": [
    "#2\n",
    "my_tuple = (3,4,5,'a','b','c')\n",
    "my_tuple.index('a')"
   ]
  },
  {
   "cell_type": "code",
   "execution_count": 4,
   "id": "b26d1316",
   "metadata": {},
   "outputs": [
    {
     "data": {
      "text/plain": [
       "'Astronomy&SpaceScienceDepartment'"
      ]
     },
     "execution_count": 4,
     "metadata": {},
     "output_type": "execute_result"
    }
   ],
   "source": [
    "#3\n",
    "my_str = '  Astronomy&SpaceScienceDepartment  '\n",
    "my_str.strip()"
   ]
  },
  {
   "cell_type": "code",
   "execution_count": 35,
   "id": "04f7bef0",
   "metadata": {},
   "outputs": [
    {
     "name": "stdout",
     "output_type": "stream",
     "text": [
      "Astronomy\n",
      "Department\n"
     ]
    }
   ],
   "source": [
    "#4\n",
    "my_str = 'Astronomy&SpaceScienceDepartment'\n",
    "my_new_str = my_str.split('&')\n",
    "print(my_new_str[0])\n",
    "print(my_new_str[1][12:])"
   ]
  },
  {
   "cell_type": "code",
   "execution_count": 6,
   "id": "f3def430",
   "metadata": {},
   "outputs": [
    {
     "name": "stdout",
     "output_type": "stream",
     "text": [
      "A\n",
      "S\n",
      "S\n",
      "D\n"
     ]
    }
   ],
   "source": [
    "#5\n",
    "my_str = 'Astronomy&SpaceScienceDepartment'\n",
    "for x in my_str:\n",
    "    if(x.isupper()):\n",
    "        print(x)"
   ]
  },
  {
   "cell_type": "code",
   "execution_count": 8,
   "id": "4ae09196",
   "metadata": {},
   "outputs": [
    {
     "name": "stdout",
     "output_type": "stream",
     "text": [
      "['s', 't', 'r', 'o', 'n', 'o', 'm', 'y', 'p', 'a', 'c', 'e', 'c', 'i', 'e', 'n', 'c', 'e', 'e', 'p', 'a', 'r', 't', 'm', 'e', 'n', 't']\n"
     ]
    }
   ],
   "source": [
    "#6\n",
    "my_str = 'Astronomy&SpaceScienceDepartment'\n",
    "low = []\n",
    "for x in my_str:\n",
    "    if(x.islower()):\n",
    "        low.append(x)\n",
    "print(low)"
   ]
  },
  {
   "cell_type": "code",
   "execution_count": 12,
   "id": "02eda99d",
   "metadata": {},
   "outputs": [
    {
     "name": "stdout",
     "output_type": "stream",
     "text": [
      "9\n"
     ]
    }
   ],
   "source": [
    "#7\n",
    "my_str = 'Astronomy&SpaceScienceDepartment'\n",
    "for i in range(len(my_str)):\n",
    "    if(my_str[i] == '&'):\n",
    "        print(i)"
   ]
  },
  {
   "cell_type": "code",
   "execution_count": 13,
   "id": "583c3014",
   "metadata": {},
   "outputs": [
    {
     "name": "stdout",
     "output_type": "stream",
     "text": [
      "popular\n"
     ]
    }
   ],
   "source": [
    "#8\n",
    "my_str = \"python is the most popular programming language\"\n",
    "my_list = my_str.split()\n",
    "print(my_list[4])"
   ]
  },
  {
   "cell_type": "code",
   "execution_count": 32,
   "id": "d3fd61de",
   "metadata": {},
   "outputs": [
    {
     "name": "stdout",
     "output_type": "stream",
     "text": [
      " 1) School : KHU, Department : Astronomy & Space Science\n",
      " 2) School : KHU, Department : Astronomy & Space Science\n",
      " 3) School : KHU, Department : Astronomy & Space Science\n"
     ]
    }
   ],
   "source": [
    "#9\n",
    "school = 'KHU'\n",
    "department = 'Astronomy & Space Science'\n",
    "print(' 1) School : ' + school + ', Department : ' + department)\n",
    "print(' 2) School : {}, Department : {}'.format(school, department))\n",
    "print(' 3) School : {1}, Department : {0}'.format(department, school))"
   ]
  },
  {
   "cell_type": "code",
   "execution_count": 24,
   "id": "ad9c3106",
   "metadata": {},
   "outputs": [
    {
     "name": "stdout",
     "output_type": "stream",
     "text": [
      "246.0\n"
     ]
    }
   ],
   "source": [
    "#10\n",
    "my_str = '100-200-300-400-230'\n",
    "my_list = my_str.split('-')\n",
    "numbers = []\n",
    "for i in my_list:\n",
    "    if(i.isnumeric()):\n",
    "        numbers.append(int(i))\n",
    "print(sum(numbers)/5.0)"
   ]
  }
 ],
 "metadata": {
  "kernelspec": {
   "display_name": "Python 3 (ipykernel)",
   "language": "python",
   "name": "python3"
  },
  "language_info": {
   "codemirror_mode": {
    "name": "ipython",
    "version": 3
   },
   "file_extension": ".py",
   "mimetype": "text/x-python",
   "name": "python",
   "nbconvert_exporter": "python",
   "pygments_lexer": "ipython3",
   "version": "3.9.7"
  }
 },
 "nbformat": 4,
 "nbformat_minor": 5
}
